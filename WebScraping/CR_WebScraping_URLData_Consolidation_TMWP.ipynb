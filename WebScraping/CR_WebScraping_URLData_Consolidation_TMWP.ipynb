{
 "cells": [
  {
   "cell_type": "markdown",
   "metadata": {},
   "source": [
    "This notebook cleans out duplicates, fixes numbers and consolidates a group of spreadsheets"
   ]
  },
  {
   "cell_type": "markdown",
   "metadata": {},
   "source": [
    "### Combine Files into One CSV"
   ]
  },
  {
   "cell_type": "code",
   "execution_count": 2,
   "metadata": {
    "collapsed": true
   },
   "outputs": [],
   "source": [
    "# Libraries Needed\n",
    "import numpy as np\n",
    "import pandas as pd"
   ]
  },
  {
   "cell_type": "code",
   "execution_count": 3,
   "metadata": {
    "collapsed": true
   },
   "outputs": [],
   "source": [
    "# Get Source Data\n",
    "# begin coding here ...\n",
    "\n",
    "fileList = [\"cr_reviewPageURLs_L.csv\",\n",
    "            \"cr_reviewPageURLs_cBks.csv\", \n",
    "            \"cr_reviewPageURLs_dskTps.csv\"]"
   ]
  },
  {
   "cell_type": "code",
   "execution_count": 17,
   "metadata": {},
   "outputs": [
    {
     "name": "stdout",
     "output_type": "stream",
     "text": [
      "-rw-r--r--@ 1 mitchmac  staff  35185 Jul 26 23:23 cr_reviewPageURLs_L.csv\r\n",
      "-rw-r--r--@ 1 mitchmac  staff  21462 Jul 26 23:36 cr_reviewPageURLs_cBks.csv\r\n",
      "-rw-r--r--  1 mitchmac  staff  27948 Jul 26 23:48 cr_reviewPageURLs_dskTps.csv\r\n"
     ]
    }
   ],
   "source": [
    "# check we have the files in our directory   ## syntax is for mac\n",
    "!ls -la *.csv"
   ]
  },
  {
   "cell_type": "code",
   "execution_count": 5,
   "metadata": {
    "collapsed": true
   },
   "outputs": [],
   "source": [
    "def build_df_from_csvList(fileLst, drop_dupes = True):\n",
    "    naList = [\"\", \" \", \"  \", \"?\"]\n",
    "    df = pd.read_csv(fileLst[0], na_values=naList)\n",
    "    print(\"initial df has \", len(df), \" rows.\")\n",
    "    print(\"Combining These files:\")\n",
    "    print(\"\\t\", fileLst[0], sep=\"\")\n",
    "    for iFile in fileLst[1:]:\n",
    "        if drop_dupes == True:\n",
    "            print(\"\\t\", iFile, sep=\"\")\n",
    "            df = df.append(pd.read_csv(iFile, na_values=naList).drop_duplicates())\n",
    "        else:\n",
    "            print(\"\\t\", iFile, sep=\"\")\n",
    "            df = df.append(pd.read_csv(iFile, na_values=naList))\n",
    "    print(\"df created with \", len(df), \" rows.\", sep=\"\")\n",
    "    return df.reset_index()\n",
    "    # Frame = Frame.append(pandas.DataFrame(data = SomeNewLineOfData))"
   ]
  },
  {
   "cell_type": "code",
   "execution_count": 6,
   "metadata": {},
   "outputs": [
    {
     "name": "stdout",
     "output_type": "stream",
     "text": [
      "initial df has  264  rows.\n",
      "Combining These files:\n",
      "\tcr_reviewPageURLs_L.csv\n",
      "\tcr_reviewPageURLs_cBks.csv\n",
      "\tcr_reviewPageURLs_dskTps.csv\n",
      "df created with 358 rows.\n"
     ]
    }
   ],
   "source": [
    "df = build_df_from_csvList(fileList)\n",
    "# df.head()"
   ]
  },
  {
   "cell_type": "code",
   "execution_count": 7,
   "metadata": {},
   "outputs": [
    {
     "data": {
      "text/html": [
       "<div>\n",
       "<style>\n",
       "    .dataframe thead tr:only-child th {\n",
       "        text-align: right;\n",
       "    }\n",
       "\n",
       "    .dataframe thead th {\n",
       "        text-align: left;\n",
       "    }\n",
       "\n",
       "    .dataframe tbody tr th {\n",
       "        vertical-align: top;\n",
       "    }\n",
       "</style>\n",
       "<table border=\"1\" class=\"dataframe\">\n",
       "  <thead>\n",
       "    <tr style=\"text-align: right;\">\n",
       "      <th></th>\n",
       "      <th>index</th>\n",
       "      <th>prod_class</th>\n",
       "      <th>brand</th>\n",
       "      <th>product_title</th>\n",
       "      <th>price</th>\n",
       "      <th>url</th>\n",
       "    </tr>\n",
       "  </thead>\n",
       "  <tbody>\n",
       "    <tr>\n",
       "      <th>0</th>\n",
       "      <td>0</td>\n",
       "      <td>laptop</td>\n",
       "      <td>Acer</td>\n",
       "      <td>Aspire E5-574-53QS</td>\n",
       "      <td>390.0</td>\n",
       "      <td>http://www.consumerreports.org/products/laptop...</td>\n",
       "    </tr>\n",
       "    <tr>\n",
       "      <th>1</th>\n",
       "      <td>1</td>\n",
       "      <td>laptop</td>\n",
       "      <td>Acer</td>\n",
       "      <td>Aspire ES1-571-P1MG</td>\n",
       "      <td>315.0</td>\n",
       "      <td>http://www.consumerreports.org/products/laptop...</td>\n",
       "    </tr>\n",
       "    <tr>\n",
       "      <th>2</th>\n",
       "      <td>2</td>\n",
       "      <td>laptop</td>\n",
       "      <td>Acer</td>\n",
       "      <td>Aspire One Cloudbook AO1-131-C9PM</td>\n",
       "      <td>165.0</td>\n",
       "      <td>http://www.consumerreports.org/products/laptop...</td>\n",
       "    </tr>\n",
       "    <tr>\n",
       "      <th>3</th>\n",
       "      <td>3</td>\n",
       "      <td>laptop</td>\n",
       "      <td>Acer</td>\n",
       "      <td>Aspire R5-571T-57Z0</td>\n",
       "      <td>700.0</td>\n",
       "      <td>http://www.consumerreports.org/products/laptop...</td>\n",
       "    </tr>\n",
       "    <tr>\n",
       "      <th>4</th>\n",
       "      <td>4</td>\n",
       "      <td>laptop</td>\n",
       "      <td>Acer</td>\n",
       "      <td>Aspire R7-372T-54TM</td>\n",
       "      <td>900.0</td>\n",
       "      <td>http://www.consumerreports.org/products/laptop...</td>\n",
       "    </tr>\n",
       "  </tbody>\n",
       "</table>\n",
       "</div>"
      ],
      "text/plain": [
       "   index prod_class brand                      product_title  price  \\\n",
       "0      0     laptop  Acer                 Aspire E5-574-53QS  390.0   \n",
       "1      1     laptop  Acer                Aspire ES1-571-P1MG  315.0   \n",
       "2      2     laptop  Acer  Aspire One Cloudbook AO1-131-C9PM  165.0   \n",
       "3      3     laptop  Acer                Aspire R5-571T-57Z0  700.0   \n",
       "4      4     laptop  Acer                Aspire R7-372T-54TM  900.0   \n",
       "\n",
       "                                                 url  \n",
       "0  http://www.consumerreports.org/products/laptop...  \n",
       "1  http://www.consumerreports.org/products/laptop...  \n",
       "2  http://www.consumerreports.org/products/laptop...  \n",
       "3  http://www.consumerreports.org/products/laptop...  \n",
       "4  http://www.consumerreports.org/products/laptop...  "
      ]
     },
     "execution_count": 7,
     "metadata": {},
     "output_type": "execute_result"
    }
   ],
   "source": [
    "# fix price column\n",
    "df['price'] = df['price'].replace(r'[\\$\\,]', r'', regex=True).astype(float, coerce=True)\n",
    "df['url'] = df['url'].str.replace('/overview/', '/')\n",
    "df.head()"
   ]
  },
  {
   "cell_type": "code",
   "execution_count": 8,
   "metadata": {},
   "outputs": [
    {
     "data": {
      "text/plain": [
       "'http://www.consumerreports.org/products/laptop/apple-macbook-pro-15-inch-touch-bar-392574/'"
      ]
     },
     "execution_count": 8,
     "metadata": {},
     "output_type": "execute_result"
    }
   ],
   "source": [
    "df['url'][10]  # spot check of one of the corrections"
   ]
  },
  {
   "cell_type": "markdown",
   "metadata": {},
   "source": [
    "### Write the Result to New File"
   ]
  },
  {
   "cell_type": "code",
   "execution_count": 9,
   "metadata": {
    "collapsed": true
   },
   "outputs": [],
   "source": [
    "df.to_csv('cr_reviewPageURLs_AllComputers.csv')"
   ]
  },
  {
   "cell_type": "markdown",
   "metadata": {},
   "source": [
    "### Test DF Created\n",
    "Testing of the DF and a few tests relating to the scrapy project follow ..."
   ]
  },
  {
   "cell_type": "code",
   "execution_count": 10,
   "metadata": {},
   "outputs": [
    {
     "data": {
      "text/html": [
       "<div>\n",
       "<style>\n",
       "    .dataframe thead tr:only-child th {\n",
       "        text-align: right;\n",
       "    }\n",
       "\n",
       "    .dataframe thead th {\n",
       "        text-align: left;\n",
       "    }\n",
       "\n",
       "    .dataframe tbody tr th {\n",
       "        vertical-align: top;\n",
       "    }\n",
       "</style>\n",
       "<table border=\"1\" class=\"dataframe\">\n",
       "  <thead>\n",
       "    <tr style=\"text-align: right;\">\n",
       "      <th></th>\n",
       "      <th>index</th>\n",
       "      <th>prod_class</th>\n",
       "      <th>brand</th>\n",
       "      <th>product_title</th>\n",
       "      <th>price</th>\n",
       "      <th>url</th>\n",
       "    </tr>\n",
       "  </thead>\n",
       "  <tbody>\n",
       "    <tr>\n",
       "      <th>0</th>\n",
       "      <td>0</td>\n",
       "      <td>laptop</td>\n",
       "      <td>Acer</td>\n",
       "      <td>Aspire E5-574-53QS</td>\n",
       "      <td>390.0</td>\n",
       "      <td>http://www.consumerreports.org/products/laptop...</td>\n",
       "    </tr>\n",
       "    <tr>\n",
       "      <th>1</th>\n",
       "      <td>1</td>\n",
       "      <td>laptop</td>\n",
       "      <td>Acer</td>\n",
       "      <td>Aspire ES1-571-P1MG</td>\n",
       "      <td>315.0</td>\n",
       "      <td>http://www.consumerreports.org/products/laptop...</td>\n",
       "    </tr>\n",
       "    <tr>\n",
       "      <th>2</th>\n",
       "      <td>2</td>\n",
       "      <td>laptop</td>\n",
       "      <td>Acer</td>\n",
       "      <td>Aspire One Cloudbook AO1-131-C9PM</td>\n",
       "      <td>165.0</td>\n",
       "      <td>http://www.consumerreports.org/products/laptop...</td>\n",
       "    </tr>\n",
       "    <tr>\n",
       "      <th>3</th>\n",
       "      <td>3</td>\n",
       "      <td>laptop</td>\n",
       "      <td>Acer</td>\n",
       "      <td>Aspire R5-571T-57Z0</td>\n",
       "      <td>700.0</td>\n",
       "      <td>http://www.consumerreports.org/products/laptop...</td>\n",
       "    </tr>\n",
       "    <tr>\n",
       "      <th>4</th>\n",
       "      <td>4</td>\n",
       "      <td>laptop</td>\n",
       "      <td>Acer</td>\n",
       "      <td>Aspire R7-372T-54TM</td>\n",
       "      <td>900.0</td>\n",
       "      <td>http://www.consumerreports.org/products/laptop...</td>\n",
       "    </tr>\n",
       "  </tbody>\n",
       "</table>\n",
       "</div>"
      ],
      "text/plain": [
       "   index prod_class brand                      product_title  price  \\\n",
       "0      0     laptop  Acer                 Aspire E5-574-53QS  390.0   \n",
       "1      1     laptop  Acer                Aspire ES1-571-P1MG  315.0   \n",
       "2      2     laptop  Acer  Aspire One Cloudbook AO1-131-C9PM  165.0   \n",
       "3      3     laptop  Acer                Aspire R5-571T-57Z0  700.0   \n",
       "4      4     laptop  Acer                Aspire R7-372T-54TM  900.0   \n",
       "\n",
       "                                                 url  \n",
       "0  http://www.consumerreports.org/products/laptop...  \n",
       "1  http://www.consumerreports.org/products/laptop...  \n",
       "2  http://www.consumerreports.org/products/laptop...  \n",
       "3  http://www.consumerreports.org/products/laptop...  \n",
       "4  http://www.consumerreports.org/products/laptop...  "
      ]
     },
     "execution_count": 10,
     "metadata": {},
     "output_type": "execute_result"
    }
   ],
   "source": [
    "## testing ... code above builds what we are looking for ...\n",
    "df.head()"
   ]
  },
  {
   "cell_type": "code",
   "execution_count": 11,
   "metadata": {},
   "outputs": [
    {
     "data": {
      "text/html": [
       "<div>\n",
       "<style>\n",
       "    .dataframe thead tr:only-child th {\n",
       "        text-align: right;\n",
       "    }\n",
       "\n",
       "    .dataframe thead th {\n",
       "        text-align: left;\n",
       "    }\n",
       "\n",
       "    .dataframe tbody tr th {\n",
       "        vertical-align: top;\n",
       "    }\n",
       "</style>\n",
       "<table border=\"1\" class=\"dataframe\">\n",
       "  <thead>\n",
       "    <tr style=\"text-align: right;\">\n",
       "      <th></th>\n",
       "      <th>index</th>\n",
       "      <th>prod_class</th>\n",
       "      <th>brand</th>\n",
       "      <th>product_title</th>\n",
       "      <th>price</th>\n",
       "      <th>url</th>\n",
       "    </tr>\n",
       "  </thead>\n",
       "  <tbody>\n",
       "    <tr>\n",
       "      <th>353</th>\n",
       "      <td>59</td>\n",
       "      <td>desktop pcs</td>\n",
       "      <td>Lenovo</td>\n",
       "      <td>Ideacentre AIO 300-23\" F0BY0041US</td>\n",
       "      <td>580.0</td>\n",
       "      <td>http://www.consumerreports.org/products/deskto...</td>\n",
       "    </tr>\n",
       "    <tr>\n",
       "      <th>354</th>\n",
       "      <td>60</td>\n",
       "      <td>desktop pcs</td>\n",
       "      <td>Lenovo</td>\n",
       "      <td>Ideacentre AIO 700 24\" F0BE006SUS</td>\n",
       "      <td>900.0</td>\n",
       "      <td>http://www.consumerreports.org/products/deskto...</td>\n",
       "    </tr>\n",
       "    <tr>\n",
       "      <th>355</th>\n",
       "      <td>61</td>\n",
       "      <td>desktop pcs</td>\n",
       "      <td>Lenovo</td>\n",
       "      <td>Ideacentre AIO 700-27 F0BD002KUS</td>\n",
       "      <td>1400.0</td>\n",
       "      <td>http://www.consumerreports.org/products/deskto...</td>\n",
       "    </tr>\n",
       "    <tr>\n",
       "      <th>356</th>\n",
       "      <td>62</td>\n",
       "      <td>desktop pcs</td>\n",
       "      <td>Lenovo</td>\n",
       "      <td>Yoga Home 900</td>\n",
       "      <td>900.0</td>\n",
       "      <td>http://www.consumerreports.org/products/deskto...</td>\n",
       "    </tr>\n",
       "    <tr>\n",
       "      <th>357</th>\n",
       "      <td>63</td>\n",
       "      <td>desktop pcs</td>\n",
       "      <td>Samsung</td>\n",
       "      <td>All-In-One DP710A4M-L01US</td>\n",
       "      <td>1000.0</td>\n",
       "      <td>http://www.consumerreports.org/products/deskto...</td>\n",
       "    </tr>\n",
       "  </tbody>\n",
       "</table>\n",
       "</div>"
      ],
      "text/plain": [
       "     index   prod_class    brand                      product_title   price  \\\n",
       "353     59  desktop pcs   Lenovo  Ideacentre AIO 300-23\" F0BY0041US   580.0   \n",
       "354     60  desktop pcs   Lenovo  Ideacentre AIO 700 24\" F0BE006SUS   900.0   \n",
       "355     61  desktop pcs   Lenovo   Ideacentre AIO 700-27 F0BD002KUS  1400.0   \n",
       "356     62  desktop pcs   Lenovo                      Yoga Home 900   900.0   \n",
       "357     63  desktop pcs  Samsung          All-In-One DP710A4M-L01US  1000.0   \n",
       "\n",
       "                                                   url  \n",
       "353  http://www.consumerreports.org/products/deskto...  \n",
       "354  http://www.consumerreports.org/products/deskto...  \n",
       "355  http://www.consumerreports.org/products/deskto...  \n",
       "356  http://www.consumerreports.org/products/deskto...  \n",
       "357  http://www.consumerreports.org/products/deskto...  "
      ]
     },
     "execution_count": 11,
     "metadata": {},
     "output_type": "execute_result"
    }
   ],
   "source": [
    "df.tail()"
   ]
  },
  {
   "cell_type": "code",
   "execution_count": 12,
   "metadata": {},
   "outputs": [
    {
     "data": {
      "text/plain": [
       "358"
      ]
     },
     "execution_count": 12,
     "metadata": {},
     "output_type": "execute_result"
    }
   ],
   "source": [
    "len(df)"
   ]
  },
  {
   "cell_type": "code",
   "execution_count": 13,
   "metadata": {},
   "outputs": [
    {
     "data": {
      "text/html": [
       "<div>\n",
       "<style>\n",
       "    .dataframe thead tr:only-child th {\n",
       "        text-align: right;\n",
       "    }\n",
       "\n",
       "    .dataframe thead th {\n",
       "        text-align: left;\n",
       "    }\n",
       "\n",
       "    .dataframe tbody tr th {\n",
       "        vertical-align: top;\n",
       "    }\n",
       "</style>\n",
       "<table border=\"1\" class=\"dataframe\">\n",
       "  <thead>\n",
       "    <tr style=\"text-align: right;\">\n",
       "      <th></th>\n",
       "      <th>index</th>\n",
       "      <th>price</th>\n",
       "    </tr>\n",
       "  </thead>\n",
       "  <tbody>\n",
       "    <tr>\n",
       "      <th>count</th>\n",
       "      <td>358.000000</td>\n",
       "      <td>358.000000</td>\n",
       "    </tr>\n",
       "    <tr>\n",
       "      <th>mean</th>\n",
       "      <td>103.818436</td>\n",
       "      <td>792.887737</td>\n",
       "    </tr>\n",
       "    <tr>\n",
       "      <th>std</th>\n",
       "      <td>80.851962</td>\n",
       "      <td>473.106159</td>\n",
       "    </tr>\n",
       "    <tr>\n",
       "      <th>min</th>\n",
       "      <td>0.000000</td>\n",
       "      <td>100.000000</td>\n",
       "    </tr>\n",
       "    <tr>\n",
       "      <th>25%</th>\n",
       "      <td>29.250000</td>\n",
       "      <td>430.000000</td>\n",
       "    </tr>\n",
       "    <tr>\n",
       "      <th>50%</th>\n",
       "      <td>84.500000</td>\n",
       "      <td>749.985000</td>\n",
       "    </tr>\n",
       "    <tr>\n",
       "      <th>75%</th>\n",
       "      <td>173.750000</td>\n",
       "      <td>1037.500000</td>\n",
       "    </tr>\n",
       "    <tr>\n",
       "      <th>max</th>\n",
       "      <td>263.000000</td>\n",
       "      <td>2899.990000</td>\n",
       "    </tr>\n",
       "  </tbody>\n",
       "</table>\n",
       "</div>"
      ],
      "text/plain": [
       "            index        price\n",
       "count  358.000000   358.000000\n",
       "mean   103.818436   792.887737\n",
       "std     80.851962   473.106159\n",
       "min      0.000000   100.000000\n",
       "25%     29.250000   430.000000\n",
       "50%     84.500000   749.985000\n",
       "75%    173.750000  1037.500000\n",
       "max    263.000000  2899.990000"
      ]
     },
     "execution_count": 13,
     "metadata": {},
     "output_type": "execute_result"
    }
   ],
   "source": [
    "df.describe()"
   ]
  },
  {
   "cell_type": "code",
   "execution_count": 14,
   "metadata": {},
   "outputs": [
    {
     "data": {
      "text/plain": [
       "laptop         264\n",
       "desktop pcs     64\n",
       "chromebook      30\n",
       "Name: prod_class, dtype: int64"
      ]
     },
     "execution_count": 14,
     "metadata": {},
     "output_type": "execute_result"
    }
   ],
   "source": [
    "df['prod_class'].value_counts()"
   ]
  },
  {
   "cell_type": "code",
   "execution_count": 15,
   "metadata": {},
   "outputs": [
    {
     "name": "stdout",
     "output_type": "stream",
     "text": [
      "358\n"
     ]
    },
    {
     "data": {
      "text/plain": [
       "'http://www.consumerreports.org/products/laptop/acer-aspire-e5-574-53qs-385910/specs'"
      ]
     },
     "execution_count": 15,
     "metadata": {},
     "output_type": "execute_result"
    }
   ],
   "source": [
    "# tried list comp and it did not seem to work\n",
    "tstLst = []\n",
    "for index, row in df.iterrows():\n",
    "    tstLst.append(row['url'] + \"specs\")\n",
    "print(len(tstLst))\n",
    "tstLst[0]"
   ]
  },
  {
   "cell_type": "code",
   "execution_count": null,
   "metadata": {
    "collapsed": true
   },
   "outputs": [],
   "source": []
  }
 ],
 "metadata": {
  "kernelspec": {
   "display_name": "Python 3",
   "language": "python",
   "name": "python3"
  },
  "language_info": {
   "codemirror_mode": {
    "name": "ipython",
    "version": 3
   },
   "file_extension": ".py",
   "mimetype": "text/x-python",
   "name": "python",
   "nbconvert_exporter": "python",
   "pygments_lexer": "ipython3",
   "version": "3.6.1"
  }
 },
 "nbformat": 4,
 "nbformat_minor": 2
}
