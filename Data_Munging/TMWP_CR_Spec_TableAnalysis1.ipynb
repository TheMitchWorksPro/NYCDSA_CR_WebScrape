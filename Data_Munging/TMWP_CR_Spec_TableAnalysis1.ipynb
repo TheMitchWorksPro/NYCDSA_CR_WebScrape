{
 "cells": [
  {
   "cell_type": "markdown",
   "metadata": {},
   "source": [
    "# Working With Consumer Reports Computer Spec Data in Python\n",
    "\n",
    "Specs table as input to this workbook was transformed with R scripts first"
   ]
  },
  {
   "cell_type": "code",
   "execution_count": 1,
   "metadata": {
    "collapsed": true
   },
   "outputs": [],
   "source": [
    "## Libraries needed\n",
    "import pandas as pd\n",
    "import numpy as np"
   ]
  },
  {
   "cell_type": "code",
   "execution_count": 3,
   "metadata": {},
   "outputs": [
    {
     "name": "stdout",
     "output_type": "stream",
     "text": [
      "cr_reviewPageURLs_AllComputers.csv cr_reviewsPage_recs_w_Rvws.csv\r\n",
      "cr_reviewsPage_PriceInfo.csv       cr_specsForProds_long.csv\r\n",
      "cr_reviewsPage_recs_w_NoRvws.csv   cr_specsForProds_wide.csv\r\n"
     ]
    }
   ],
   "source": [
    "!ls *.csv"
   ]
  },
  {
   "cell_type": "code",
   "execution_count": 4,
   "metadata": {},
   "outputs": [
    {
     "data": {
      "text/html": [
       "<div>\n",
       "<style>\n",
       "    .dataframe thead tr:only-child th {\n",
       "        text-align: right;\n",
       "    }\n",
       "\n",
       "    .dataframe thead th {\n",
       "        text-align: left;\n",
       "    }\n",
       "\n",
       "    .dataframe tbody tr th {\n",
       "        vertical-align: top;\n",
       "    }\n",
       "</style>\n",
       "<table border=\"1\" class=\"dataframe\">\n",
       "  <thead>\n",
       "    <tr style=\"text-align: right;\">\n",
       "      <th></th>\n",
       "      <th>Unnamed: 0</th>\n",
       "      <th>brand</th>\n",
       "      <th>model</th>\n",
       "      <th>prod_class</th>\n",
       "      <th>url</th>\n",
       "      <th>Analog_surround_sound_out</th>\n",
       "      <th>Battery_capacity</th>\n",
       "      <th>Blu_ray_or_DVD</th>\n",
       "      <th>Blu_ray_reader</th>\n",
       "      <th>Built_in_microphone</th>\n",
       "      <th>...</th>\n",
       "      <th>Voice_command</th>\n",
       "      <th>Warranty_length</th>\n",
       "      <th>Width</th>\n",
       "      <th>WiFi</th>\n",
       "      <th>WiFi_type</th>\n",
       "      <th>Wireless_keyboard</th>\n",
       "      <th>Wireless_mouse</th>\n",
       "      <th>xD_reader</th>\n",
       "      <th>Has_Facial_recognition</th>\n",
       "      <th>Has_FingerPrintReader</th>\n",
       "    </tr>\n",
       "  </thead>\n",
       "  <tbody>\n",
       "    <tr>\n",
       "      <th>0</th>\n",
       "      <td>1</td>\n",
       "      <td>Acer</td>\n",
       "      <td>Aspire E5-574-53QS computer</td>\n",
       "      <td>laptop</td>\n",
       "      <td>https://www.consumerreports.org/products/lapto...</td>\n",
       "      <td>NaN</td>\n",
       "      <td>37.0</td>\n",
       "      <td>D</td>\n",
       "      <td>NaN</td>\n",
       "      <td>NaN</td>\n",
       "      <td>...</td>\n",
       "      <td>NaN</td>\n",
       "      <td>12</td>\n",
       "      <td>15.0</td>\n",
       "      <td>NaN</td>\n",
       "      <td>802.11ac</td>\n",
       "      <td>NaN</td>\n",
       "      <td>NaN</td>\n",
       "      <td>NaN</td>\n",
       "      <td>0</td>\n",
       "      <td>0</td>\n",
       "    </tr>\n",
       "    <tr>\n",
       "      <th>1</th>\n",
       "      <td>2</td>\n",
       "      <td>Acer</td>\n",
       "      <td>Aspire E5-575T-3678 computer</td>\n",
       "      <td>laptop</td>\n",
       "      <td>https://www.consumerreports.org/products/lapto...</td>\n",
       "      <td>NaN</td>\n",
       "      <td>41.0</td>\n",
       "      <td>D</td>\n",
       "      <td>NaN</td>\n",
       "      <td>NaN</td>\n",
       "      <td>...</td>\n",
       "      <td>NaN</td>\n",
       "      <td>12</td>\n",
       "      <td>15.0</td>\n",
       "      <td>NaN</td>\n",
       "      <td>802.11ac</td>\n",
       "      <td>NaN</td>\n",
       "      <td>NaN</td>\n",
       "      <td>NaN</td>\n",
       "      <td>0</td>\n",
       "      <td>0</td>\n",
       "    </tr>\n",
       "    <tr>\n",
       "      <th>2</th>\n",
       "      <td>3</td>\n",
       "      <td>Acer</td>\n",
       "      <td>Aspire ES 15 E5-573-35JA computer</td>\n",
       "      <td>laptop</td>\n",
       "      <td>https://www.consumerreports.org/products/lapto...</td>\n",
       "      <td>NaN</td>\n",
       "      <td>37.0</td>\n",
       "      <td>D</td>\n",
       "      <td>NaN</td>\n",
       "      <td>NaN</td>\n",
       "      <td>...</td>\n",
       "      <td>NaN</td>\n",
       "      <td>12</td>\n",
       "      <td>15.0</td>\n",
       "      <td>NaN</td>\n",
       "      <td>802.11ac</td>\n",
       "      <td>NaN</td>\n",
       "      <td>NaN</td>\n",
       "      <td>NaN</td>\n",
       "      <td>0</td>\n",
       "      <td>0</td>\n",
       "    </tr>\n",
       "    <tr>\n",
       "      <th>3</th>\n",
       "      <td>4</td>\n",
       "      <td>Acer</td>\n",
       "      <td>Aspire ES1-533-C55P computer</td>\n",
       "      <td>laptop</td>\n",
       "      <td>https://www.consumerreports.org/products/lapto...</td>\n",
       "      <td>NaN</td>\n",
       "      <td>37.0</td>\n",
       "      <td>None</td>\n",
       "      <td>NaN</td>\n",
       "      <td>NaN</td>\n",
       "      <td>...</td>\n",
       "      <td>NaN</td>\n",
       "      <td>12</td>\n",
       "      <td>15.1</td>\n",
       "      <td>NaN</td>\n",
       "      <td>802.11ac</td>\n",
       "      <td>NaN</td>\n",
       "      <td>NaN</td>\n",
       "      <td>NaN</td>\n",
       "      <td>0</td>\n",
       "      <td>0</td>\n",
       "    </tr>\n",
       "    <tr>\n",
       "      <th>4</th>\n",
       "      <td>5</td>\n",
       "      <td>Acer</td>\n",
       "      <td>Aspire ES1-571-P1MG computer</td>\n",
       "      <td>laptop</td>\n",
       "      <td>https://www.consumerreports.org/products/lapto...</td>\n",
       "      <td>NaN</td>\n",
       "      <td>38.0</td>\n",
       "      <td>D</td>\n",
       "      <td>NaN</td>\n",
       "      <td>NaN</td>\n",
       "      <td>...</td>\n",
       "      <td>NaN</td>\n",
       "      <td>12</td>\n",
       "      <td>15.1</td>\n",
       "      <td>NaN</td>\n",
       "      <td>802.11ac</td>\n",
       "      <td>NaN</td>\n",
       "      <td>NaN</td>\n",
       "      <td>NaN</td>\n",
       "      <td>0</td>\n",
       "      <td>0</td>\n",
       "    </tr>\n",
       "  </tbody>\n",
       "</table>\n",
       "<p>5 rows × 59 columns</p>\n",
       "</div>"
      ],
      "text/plain": [
       "   Unnamed: 0 brand                              model prod_class  \\\n",
       "0           1  Acer        Aspire E5-574-53QS computer     laptop   \n",
       "1           2  Acer       Aspire E5-575T-3678 computer     laptop   \n",
       "2           3  Acer  Aspire ES 15 E5-573-35JA computer     laptop   \n",
       "3           4  Acer       Aspire ES1-533-C55P computer     laptop   \n",
       "4           5  Acer       Aspire ES1-571-P1MG computer     laptop   \n",
       "\n",
       "                                                 url  \\\n",
       "0  https://www.consumerreports.org/products/lapto...   \n",
       "1  https://www.consumerreports.org/products/lapto...   \n",
       "2  https://www.consumerreports.org/products/lapto...   \n",
       "3  https://www.consumerreports.org/products/lapto...   \n",
       "4  https://www.consumerreports.org/products/lapto...   \n",
       "\n",
       "  Analog_surround_sound_out  Battery_capacity Blu_ray_or_DVD Blu_ray_reader  \\\n",
       "0                       NaN              37.0              D            NaN   \n",
       "1                       NaN              41.0              D            NaN   \n",
       "2                       NaN              37.0              D            NaN   \n",
       "3                       NaN              37.0           None            NaN   \n",
       "4                       NaN              38.0              D            NaN   \n",
       "\n",
       "  Built_in_microphone          ...          Voice_command  Warranty_length  \\\n",
       "0                 NaN          ...                    NaN               12   \n",
       "1                 NaN          ...                    NaN               12   \n",
       "2                 NaN          ...                    NaN               12   \n",
       "3                 NaN          ...                    NaN               12   \n",
       "4                 NaN          ...                    NaN               12   \n",
       "\n",
       "  Width  WiFi WiFi_type Wireless_keyboard Wireless_mouse xD_reader  \\\n",
       "0  15.0   NaN  802.11ac               NaN            NaN       NaN   \n",
       "1  15.0   NaN  802.11ac               NaN            NaN       NaN   \n",
       "2  15.0   NaN  802.11ac               NaN            NaN       NaN   \n",
       "3  15.1   NaN  802.11ac               NaN            NaN       NaN   \n",
       "4  15.1   NaN  802.11ac               NaN            NaN       NaN   \n",
       "\n",
       "  Has_Facial_recognition Has_FingerPrintReader  \n",
       "0                      0                     0  \n",
       "1                      0                     0  \n",
       "2                      0                     0  \n",
       "3                      0                     0  \n",
       "4                      0                     0  \n",
       "\n",
       "[5 rows x 59 columns]"
      ]
     },
     "execution_count": 4,
     "metadata": {},
     "output_type": "execute_result"
    }
   ],
   "source": [
    "# get spec sheet from modifications made in R\n",
    "cr_specs_csv = \"./cr_specsForProds_wide.csv\"\n",
    "naList = [\"\", \" \", \"  \", \"?\"]\n",
    "cr_spec_df = pd.read_csv(cr_specs_csv, na_values=naList)\n",
    "cr_spec_df.head()"
   ]
  },
  {
   "cell_type": "code",
   "execution_count": 5,
   "metadata": {},
   "outputs": [
    {
     "name": "stdout",
     "output_type": "stream",
     "text": [
      "268\n"
     ]
    },
    {
     "data": {
      "text/plain": [
       "(268, 59)"
      ]
     },
     "execution_count": 5,
     "metadata": {},
     "output_type": "execute_result"
    }
   ],
   "source": [
    "# quick check of the head of this worksheet is above\n",
    "print(len(cr_spec_df))  \n",
    "cr_spec_df.shape"
   ]
  },
  {
   "cell_type": "code",
   "execution_count": 6,
   "metadata": {
    "collapsed": true
   },
   "outputs": [],
   "source": [
    "%matplotlib inline"
   ]
  },
  {
   "cell_type": "code",
   "execution_count": 7,
   "metadata": {
    "collapsed": true
   },
   "outputs": [],
   "source": [
    "import pandas as pd\n",
    "import numpy as np\n",
    "from matplotlib import pyplot as plt"
   ]
  },
  {
   "cell_type": "markdown",
   "metadata": {},
   "source": [
    "## New Features and Standards\n",
    "\n",
    "Among the spec fields collected on the site, there were some fields that clearly represent features and/or standards that are new or are still new enough that we don't expect to see them in all the equipment being analyzed.  For comparison, consumer reports was able to obtain this many models for review segregated by brand.\n",
    "\n",
    "### Models Reviewed For Each Brand"
   ]
  },
  {
   "cell_type": "code",
   "execution_count": 8,
   "metadata": {},
   "outputs": [
    {
     "data": {
      "text/plain": [
       "brand\n",
       "HP           62\n",
       "Lenovo       48\n",
       "Dell         41\n",
       "Acer         30\n",
       "Asus         24\n",
       "Apple        20\n",
       "Samsung      17\n",
       "Microsoft     8\n",
       "LG            6\n",
       "Vaio          4\n",
       "Toshiba       4\n",
       "Intel         2\n",
       "Huawei        1\n",
       "Google        1\n",
       "Name: model, dtype: int64"
      ]
     },
     "execution_count": 8,
     "metadata": {},
     "output_type": "execute_result"
    }
   ],
   "source": [
    "## quick list of the data:\n",
    "cr_spec_df.groupby('brand')['model'].count().sort_values(ascending=False)"
   ]
  },
  {
   "cell_type": "code",
   "execution_count": 9,
   "metadata": {},
   "outputs": [
    {
     "data": {
      "text/plain": [
       "<matplotlib.axes._subplots.AxesSubplot at 0x10f47f208>"
      ]
     },
     "execution_count": 9,
     "metadata": {},
     "output_type": "execute_result"
    },
    {
     "data": {
      "image/png": "[encoded data removed]",
      "text/plain": [
       "<matplotlib.figure.Figure at 0x10f47f198>"
      ]
     },
     "metadata": {},
     "output_type": "display_data"
    }
   ],
   "source": [
    "# in graphical form\n",
    "\n",
    "plt.figure(figsize=(12,6))\n",
    "cr_spec_df.groupby('brand')['model'].count().sort_values(ascending=False).plot.bar()"
   ]
  },
  {
   "cell_type": "markdown",
   "metadata": {},
   "source": [
    "### Facial Recognition\n",
    "\n",
    "Models tested that had Facial Recognition:"
   ]
  },
  {
   "cell_type": "code",
   "execution_count": 10,
   "metadata": {},
   "outputs": [
    {
     "data": {
      "text/plain": [
       "<matplotlib.axes._subplots.AxesSubplot at 0x10f841320>"
      ]
     },
     "execution_count": 10,
     "metadata": {},
     "output_type": "execute_result"
    },
    {
     "data": {
      "image/png": "[encoded data removed]",
      "text/plain": [
       "<matplotlib.figure.Figure at 0x10f841c18>"
      ]
     },
     "metadata": {},
     "output_type": "display_data"
    }
   ],
   "source": [
    "plt.figure(figsize=(12,6))\n",
    "cr_spec_df.groupby('brand')['Has_Facial_recognition'].sum().sort_values(ascending=False).plot.bar()"
   ]
  },
  {
   "cell_type": "markdown",
   "metadata": {},
   "source": [
    "### Use Finger Print Sign-In\n",
    "This feature is more common on smart phones but is making its way to computers."
   ]
  },
  {
   "cell_type": "code",
   "execution_count": 11,
   "metadata": {},
   "outputs": [
    {
     "data": {
      "text/plain": [
       "<matplotlib.axes._subplots.AxesSubplot at 0x10fbde390>"
      ]
     },
     "execution_count": 11,
     "metadata": {},
     "output_type": "execute_result"
    },
    {
     "data": {
      "image/png": "[encoded data removed]",
      "text/plain": [
       "<matplotlib.figure.Figure at 0x10fbf43c8>"
      ]
     },
     "metadata": {},
     "output_type": "display_data"
    }
   ],
   "source": [
    "plt.figure(figsize=(12,6))\n",
    "cr_spec_df.groupby('brand')['Has_FingerPrintReader'].sum().sort_values(ascending=False).plot.bar()"
   ]
  },
  {
   "cell_type": "markdown",
   "metadata": {},
   "source": [
    "**Point of interest taking these two graphs together:**\n",
    "\n",
    "1. HP, Lenovo, Asus, and Dell - offer different models with either facial recongition or fingerprint readers\n",
    "2. Microsoft and Apple are split:\n",
    "  - Apple offerings that were tested sported fingerprint readers only\n",
    "  - Microsoft offerings included facial recognition only\n",
    "3. Vaio / Toshiba did not have this feature in any of the models tested by CR\n",
    "4. More of the players offer finger print readers at this time than facial recognition"
   ]
  },
  {
   "cell_type": "markdown",
   "metadata": {},
   "source": [
    "### Has Thunderbolt Ports\n",
    "\n",
    "It is known going into this analysis that Apple has made a commitment in new laptops this year to provide Thunderbolt ports only while HP, recognizing that if the new standard is adopted to replace USB, users still need to transition, so they have released laptops on the market with both types of ports.  That said, data on models tested by Consumer Reports for how many models included Thunderbolt = \"Yes\" as a spec is provided here."
   ]
  },
  {
   "cell_type": "code",
   "execution_count": 12,
   "metadata": {},
   "outputs": [
    {
     "data": {
      "text/plain": [
       "<matplotlib.axes._subplots.AxesSubplot at 0x10fde3400>"
      ]
     },
     "execution_count": 12,
     "metadata": {},
     "output_type": "execute_result"
    },
    {
     "data": {
      "image/png": "[encoded data removed]",
      "text/plain": [
       "<matplotlib.figure.Figure at 0x10fdf4a90>"
      ]
     },
     "metadata": {},
     "output_type": "display_data"
    }
   ],
   "source": [
    "plt.figure(figsize=(12,6))\n",
    "cr_spec_df.groupby('brand')['Thunderbolt_port'].sum().sort_values(ascending=False).plot.bar()"
   ]
  },
  {
   "cell_type": "markdown",
   "metadata": {},
   "source": [
    "Of interest:  Microsoft computers that were tested were not recorded as offering this standard even as an option yet.  But some major players in the windows space (Lenovo, Acer, Asus) all had at least a few models to try it out.  My anecdotal knowledge of HP's use of both ports in their machines is reflected in only 6 of the models tested by CR."
   ]
  },
  {
   "cell_type": "markdown",
   "metadata": {},
   "source": [
    "### Gigabit Ethernet Port\n",
    "\n",
    "When these first started showing up in laptops in particular, they were seen as a feature needed more for \"jacking into the network at work\" then for home use.  With the rise of high speed internet, this feature is probably a must now.  The point of interest here is what companies are leaving this off of any of their models.  Though wifi could theoretically supplant the need, the standard way to troubleshoot a bad internet connection is to jack the computer directly into the router and see what is going on."
   ]
  },
  {
   "cell_type": "code",
   "execution_count": 13,
   "metadata": {},
   "outputs": [
    {
     "data": {
      "text/plain": [
       "<matplotlib.axes._subplots.AxesSubplot at 0x10f84f470>"
      ]
     },
     "execution_count": 13,
     "metadata": {},
     "output_type": "execute_result"
    },
    {
     "data": {
      "image/png": "[encoded data removed]",
      "text/plain": [
       "<matplotlib.figure.Figure at 0x10fe21a90>"
      ]
     },
     "metadata": {},
     "output_type": "display_data"
    }
   ],
   "source": [
    "# Gigabit_Ethernet\n",
    "plt.figure(figsize=(12,6))\n",
    "cr_spec_df.groupby('brand')['Gigabit_Ethernet'].sum().sort_values(ascending=False).plot.bar()"
   ]
  },
  {
   "cell_type": "markdown",
   "metadata": {},
   "source": [
    "### WIFI\n",
    "\n",
    "There are often [new standards of WiFi](https://www.forbes.com/sites/gordonkelly/2014/12/30/802-11ac-vs-802-11n-wifi-whats-the-difference/#5a441ea53957) coming out with differing levels of support and adoption for each.  Cleansing of the Wifi field was put off (in favor of other analysis) when it was realized that the field had over 94 missing values.  These values included Chromebooks which definitely use wifi being that they are designed for the cloud.  As a point of interest though, here are the counts on different kinds of wifi found in tested models (where the spec is known):"
   ]
  },
  {
   "cell_type": "code",
   "execution_count": 14,
   "metadata": {},
   "outputs": [
    {
     "data": {
      "text/plain": [
       "802.11ac             150\n",
       "802.11n               21\n",
       "802.11n Dual-band      3\n",
       "Name: WiFi_type, dtype: int64"
      ]
     },
     "execution_count": 14,
     "metadata": {},
     "output_type": "execute_result"
    }
   ],
   "source": [
    "cr_spec_df.WiFi_type.value_counts()"
   ]
  },
  {
   "cell_type": "code",
   "execution_count": 15,
   "metadata": {},
   "outputs": [
    {
     "data": {
      "text/plain": [
       "brand      WiFi_type        \n",
       "Acer       802.11ac             20\n",
       "           802.11n               1\n",
       "Apple      802.11ac             12\n",
       "Asus       802.11ac             11\n",
       "           802.11n               2\n",
       "           802.11n Dual-band     2\n",
       "Dell       802.11ac             18\n",
       "           802.11n               4\n",
       "HP         802.11ac             23\n",
       "           802.11n              12\n",
       "Huawei     802.11ac              1\n",
       "LG         802.11ac              6\n",
       "Lenovo     802.11ac             33\n",
       "           802.11n               2\n",
       "Microsoft  802.11ac              7\n",
       "Samsung    802.11ac             13\n",
       "Toshiba    802.11ac              2\n",
       "           802.11n Dual-band     1\n",
       "Vaio       802.11ac              4\n",
       "Name: WiFi_type, dtype: int64"
      ]
     },
     "execution_count": 15,
     "metadata": {},
     "output_type": "execute_result"
    }
   ],
   "source": [
    "## and segmenting this by brand (for what's known):\n",
    "cr_spec_df.groupby('brand').WiFi_type.value_counts()"
   ]
  },
  {
   "cell_type": "markdown",
   "metadata": {
    "collapsed": true
   },
   "source": [
    "## Some Other Points of Interest\n",
    "\n",
    "### Memory by Manufacturer\n",
    "\n",
    "How much RAM (Random Access Memory) are different manufacturers putting in their computer models?  We can also get a sense of the overall distribution within the computer models from these box plots."
   ]
  },
  {
   "cell_type": "code",
   "execution_count": 46,
   "metadata": {
    "collapsed": true
   },
   "outputs": [],
   "source": [
    "import seaborn as sns\n",
    "from matplotlib import pyplot"
   ]
  },
  {
   "cell_type": "code",
   "execution_count": 42,
   "metadata": {},
   "outputs": [
    {
     "data": {
      "text/plain": [
       "<matplotlib.axes._subplots.AxesSubplot at 0x1168d8080>"
      ]
     },
     "execution_count": 42,
     "metadata": {},
     "output_type": "execute_result"
    },
    {
     "data": {
      "image/png": "[encoded data removed]",
      "text/plain": [
       "<matplotlib.figure.Figure at 0x11684cef0>"
      ]
     },
     "metadata": {},
     "output_type": "display_data"
    }
   ],
   "source": [
    "plt.figure(figsize=(15,8))\n",
    "sns.boxplot(x='brand', y='Memory', data=cr_spec_df)"
   ]
  },
  {
   "cell_type": "markdown",
   "metadata": {},
   "source": [
    "From this we see that Samsung and HP have the widest offerings of Memory within the models they release and \n",
    "the Google Chromebook (a cloud computing option) sits squarely in the middle of these offerings at 8 GB of Memory.\n",
    "The data currently on the site would have you believing that most Apple offerings are 8 GB with a few outliers at 4\n",
    "and 16.  Dell markets most, if not all of their computers in the general top range of 8 to 12 \n",
    "(precluding the 16 GB outliers) and Toshiba seems to pack less memory in most of their models with a high general range that looks like 5 GB with a mean of 4 and an outlier (or a few outliers) at around 8 GB."
   ]
  },
  {
   "cell_type": "markdown",
   "metadata": {},
   "source": [
    "Note the following overall memory pattern as opposed to the above:"
   ]
  },
  {
   "cell_type": "code",
   "execution_count": 18,
   "metadata": {},
   "outputs": [
    {
     "data": {
      "text/plain": [
       "8     119\n",
       "4      65\n",
       "16     28\n",
       "2      25\n",
       "12     22\n",
       "6       9\n",
       "Name: Memory, dtype: int64"
      ]
     },
     "execution_count": 18,
     "metadata": {},
     "output_type": "execute_result"
    }
   ],
   "source": [
    "cr_spec_df.Memory.value_counts()"
   ]
  },
  {
   "cell_type": "code",
   "execution_count": 43,
   "metadata": {},
   "outputs": [
    {
     "data": {
      "text/plain": [
       "<matplotlib.axes._subplots.AxesSubplot at 0x116bae128>"
      ]
     },
     "execution_count": 43,
     "metadata": {},
     "output_type": "execute_result"
    },
    {
     "data": {
      "image/png": "[encoded data removed]",
      "text/plain": [
       "<matplotlib.figure.Figure at 0x116bae4a8>"
      ]
     },
     "metadata": {},
     "output_type": "display_data"
    }
   ],
   "source": [
    "plt.figure(figsize=(12,6))\n",
    "sns.kdeplot(cr_spec_df['Memory'], shade=True, label='Estimated PDF of Computer RAM (Memory)') \n",
    "# kernel density plot"
   ]
  },
  {
   "cell_type": "markdown",
   "metadata": {},
   "source": [
    "Note that there were no missing values in the Memory field, and according to these stats created in R, the min/max range of the data is 2GB to 16 GB. But the biggest spikes in the data are at around 4 and 8 GB which do feel accurate for the current state of the market.  The data shows 4 hills and it should be noted that the density plot seems to estimate a range for drawing the curve that is larger than the actual data.  Note the max/min values from this summary of the field lifted from R Studio:\n",
    "\n",
    "    Memory       \n",
    " Min.   : 2.000       \n",
    " 1st Qu.: 4.000       \n",
    " Median : 8.000    \n",
    " Mean   : 7.567      \n",
    " 3rd Qu.: 8.000   \n",
    " Max.   :16.000"
   ]
  },
  {
   "cell_type": "markdown",
   "metadata": {},
   "source": [
    "On a related note: there is a field in the specifications with the title: \"Suitable_for_gaming\".  The field has 204 missing values.  Included in these values are laptop and desktop with well known graphics cards.  The video memory tends to be on the low end and might be a little light for gaming, but it should have been possible to test them. Thinking about systems put out by Alienware for \"Super Users\" and  \"Gamers\" and also looking at the price of such machines, it does not look like this field is truly being used or like Consumer Reports is evaluating \"Gaming Computer Systems\" just yet."
   ]
  },
  {
   "cell_type": "markdown",
   "metadata": {},
   "source": [
    "### Memory Versus Price - Preparations"
   ]
  },
  {
   "cell_type": "markdown",
   "metadata": {},
   "source": [
    "Looking simply at Memory versus mprice, we need to combine some different sheets collected during our scraping process.  This resulted in need to do a little data cleaning as well.  Cells in this section may behave differently if run again due to data updates made since creating this section."
   ]
  },
  {
   "cell_type": "code",
   "execution_count": 20,
   "metadata": {},
   "outputs": [
    {
     "data": {
      "text/html": [
       "<div>\n",
       "<style>\n",
       "    .dataframe thead tr:only-child th {\n",
       "        text-align: right;\n",
       "    }\n",
       "\n",
       "    .dataframe thead th {\n",
       "        text-align: left;\n",
       "    }\n",
       "\n",
       "    .dataframe tbody tr th {\n",
       "        vertical-align: top;\n",
       "    }\n",
       "</style>\n",
       "<table border=\"1\" class=\"dataframe\">\n",
       "  <thead>\n",
       "    <tr style=\"text-align: right;\">\n",
       "      <th></th>\n",
       "      <th>Unnamed: 0</th>\n",
       "      <th>X</th>\n",
       "      <th>index</th>\n",
       "      <th>prod_class</th>\n",
       "      <th>brand</th>\n",
       "      <th>product_title</th>\n",
       "      <th>price</th>\n",
       "      <th>url</th>\n",
       "      <th>url2</th>\n",
       "    </tr>\n",
       "  </thead>\n",
       "  <tbody>\n",
       "    <tr>\n",
       "      <th>0</th>\n",
       "      <td>1</td>\n",
       "      <td>0</td>\n",
       "      <td>0</td>\n",
       "      <td>laptop</td>\n",
       "      <td>Acer</td>\n",
       "      <td>Aspire E5-574-53QS</td>\n",
       "      <td>390.0</td>\n",
       "      <td>http://www.consumerreports.org/products/laptop...</td>\n",
       "      <td>https://www.consumerreports.org/products/lapto...</td>\n",
       "    </tr>\n",
       "    <tr>\n",
       "      <th>1</th>\n",
       "      <td>2</td>\n",
       "      <td>1</td>\n",
       "      <td>1</td>\n",
       "      <td>laptop</td>\n",
       "      <td>Acer</td>\n",
       "      <td>Aspire ES1-571-P1MG</td>\n",
       "      <td>315.0</td>\n",
       "      <td>http://www.consumerreports.org/products/laptop...</td>\n",
       "      <td>https://www.consumerreports.org/products/lapto...</td>\n",
       "    </tr>\n",
       "    <tr>\n",
       "      <th>2</th>\n",
       "      <td>3</td>\n",
       "      <td>2</td>\n",
       "      <td>2</td>\n",
       "      <td>laptop</td>\n",
       "      <td>Acer</td>\n",
       "      <td>Aspire One Cloudbook AO1-131-C9PM</td>\n",
       "      <td>165.0</td>\n",
       "      <td>http://www.consumerreports.org/products/laptop...</td>\n",
       "      <td>https://www.consumerreports.org/products/lapto...</td>\n",
       "    </tr>\n",
       "    <tr>\n",
       "      <th>3</th>\n",
       "      <td>4</td>\n",
       "      <td>3</td>\n",
       "      <td>3</td>\n",
       "      <td>laptop</td>\n",
       "      <td>Acer</td>\n",
       "      <td>Aspire R5-571T-57Z0</td>\n",
       "      <td>700.0</td>\n",
       "      <td>http://www.consumerreports.org/products/laptop...</td>\n",
       "      <td>https://www.consumerreports.org/products/lapto...</td>\n",
       "    </tr>\n",
       "    <tr>\n",
       "      <th>4</th>\n",
       "      <td>5</td>\n",
       "      <td>4</td>\n",
       "      <td>4</td>\n",
       "      <td>laptop</td>\n",
       "      <td>Acer</td>\n",
       "      <td>Aspire R7-372T-54TM</td>\n",
       "      <td>900.0</td>\n",
       "      <td>http://www.consumerreports.org/products/laptop...</td>\n",
       "      <td>https://www.consumerreports.org/products/lapto...</td>\n",
       "    </tr>\n",
       "  </tbody>\n",
       "</table>\n",
       "</div>"
      ],
      "text/plain": [
       "   Unnamed: 0  X  index prod_class brand                      product_title  \\\n",
       "0           1  0      0     laptop  Acer                 Aspire E5-574-53QS   \n",
       "1           2  1      1     laptop  Acer                Aspire ES1-571-P1MG   \n",
       "2           3  2      2     laptop  Acer  Aspire One Cloudbook AO1-131-C9PM   \n",
       "3           4  3      3     laptop  Acer                Aspire R5-571T-57Z0   \n",
       "4           5  4      4     laptop  Acer                Aspire R7-372T-54TM   \n",
       "\n",
       "   price                                                url  \\\n",
       "0  390.0  http://www.consumerreports.org/products/laptop...   \n",
       "1  315.0  http://www.consumerreports.org/products/laptop...   \n",
       "2  165.0  http://www.consumerreports.org/products/laptop...   \n",
       "3  700.0  http://www.consumerreports.org/products/laptop...   \n",
       "4  900.0  http://www.consumerreports.org/products/laptop...   \n",
       "\n",
       "                                                url2  \n",
       "0  https://www.consumerreports.org/products/lapto...  \n",
       "1  https://www.consumerreports.org/products/lapto...  \n",
       "2  https://www.consumerreports.org/products/lapto...  \n",
       "3  https://www.consumerreports.org/products/lapto...  \n",
       "4  https://www.consumerreports.org/products/lapto...  "
      ]
     },
     "execution_count": 20,
     "metadata": {},
     "output_type": "execute_result"
    }
   ],
   "source": [
    "cr_Pricespecs_df = pd.read_csv(\"./cr_reviewsPage_PriceInfo.csv\", na_values=naList)\n",
    "cr_Pricespecs_df.head()"
   ]
  },
  {
   "cell_type": "code",
   "execution_count": 22,
   "metadata": {},
   "outputs": [
    {
     "name": "stdout",
     "output_type": "stream",
     "text": [
      "(358, 7)\n"
     ]
    },
    {
     "data": {
      "text/html": [
       "<div>\n",
       "<style>\n",
       "    .dataframe thead tr:only-child th {\n",
       "        text-align: right;\n",
       "    }\n",
       "\n",
       "    .dataframe thead th {\n",
       "        text-align: left;\n",
       "    }\n",
       "\n",
       "    .dataframe tbody tr th {\n",
       "        vertical-align: top;\n",
       "    }\n",
       "</style>\n",
       "<table border=\"1\" class=\"dataframe\">\n",
       "  <thead>\n",
       "    <tr style=\"text-align: right;\">\n",
       "      <th></th>\n",
       "      <th>prod_class</th>\n",
       "      <th>brand</th>\n",
       "      <th>model</th>\n",
       "      <th>Memory</th>\n",
       "      <th>url</th>\n",
       "      <th>price</th>\n",
       "      <th>url2</th>\n",
       "    </tr>\n",
       "  </thead>\n",
       "  <tbody>\n",
       "    <tr>\n",
       "      <th>244</th>\n",
       "      <td>desktop-computer</td>\n",
       "      <td>Intel</td>\n",
       "      <td>Compute Stick 2nd Gen computer</td>\n",
       "      <td>2</td>\n",
       "      <td>https://www.consumerreports.org/products/deskt...</td>\n",
       "      <td>NaN</td>\n",
       "      <td>NaN</td>\n",
       "    </tr>\n",
       "    <tr>\n",
       "      <th>245</th>\n",
       "      <td>desktop-computer</td>\n",
       "      <td>Intel</td>\n",
       "      <td>Compute Stick computer</td>\n",
       "      <td>2</td>\n",
       "      <td>https://www.consumerreports.org/products/deskt...</td>\n",
       "      <td>NaN</td>\n",
       "      <td>NaN</td>\n",
       "    </tr>\n",
       "  </tbody>\n",
       "</table>\n",
       "</div>"
      ],
      "text/plain": [
       "           prod_class  brand                           model  Memory  \\\n",
       "244  desktop-computer  Intel  Compute Stick 2nd Gen computer       2   \n",
       "245  desktop-computer  Intel          Compute Stick computer       2   \n",
       "\n",
       "                                                   url  price url2  \n",
       "244  https://www.consumerreports.org/products/deskt...    NaN  NaN  \n",
       "245  https://www.consumerreports.org/products/deskt...    NaN  NaN  "
      ]
     },
     "execution_count": 22,
     "metadata": {},
     "output_type": "execute_result"
    }
   ],
   "source": [
    "# cr_Pricespecs_df.corr\n",
    "#   .loc['prod_class', 'brand', 'product_title', 'price']\n",
    "memoryPrice = cr_spec_df[['prod_class','brand', 'model', 'Memory', 'url']].merge(\n",
    "    cr_Pricespecs_df[['price', 'url2']], how='left',\n",
    "    left_on=['url'], \n",
    "    right_on=['url2'])\n",
    "print(memoryPrice.shape)\n",
    "memoryPrice[np.isnan(memoryPrice['price'])]"
   ]
  },
  {
   "cell_type": "code",
   "execution_count": 23,
   "metadata": {},
   "outputs": [
    {
     "data": {
      "text/plain": [
       "(356, 7)"
      ]
     },
     "execution_count": 23,
     "metadata": {},
     "output_type": "execute_result"
    }
   ],
   "source": [
    "## computer sticks were clened from price table and must have forgot to remove them from spec table\n",
    "## removing them here:\n",
    "memoryPrice.drop(memoryPrice.index[[244,245]], inplace=True)\n",
    "memoryPrice.shape"
   ]
  },
  {
   "cell_type": "code",
   "execution_count": 24,
   "metadata": {},
   "outputs": [
    {
     "data": {
      "text/html": [
       "<div>\n",
       "<style>\n",
       "    .dataframe thead tr:only-child th {\n",
       "        text-align: right;\n",
       "    }\n",
       "\n",
       "    .dataframe thead th {\n",
       "        text-align: left;\n",
       "    }\n",
       "\n",
       "    .dataframe tbody tr th {\n",
       "        vertical-align: top;\n",
       "    }\n",
       "</style>\n",
       "<table border=\"1\" class=\"dataframe\">\n",
       "  <thead>\n",
       "    <tr style=\"text-align: right;\">\n",
       "      <th></th>\n",
       "      <th>Unnamed: 0</th>\n",
       "      <th>brand</th>\n",
       "      <th>model</th>\n",
       "      <th>prod_class</th>\n",
       "      <th>url</th>\n",
       "      <th>Analog_surround_sound_out</th>\n",
       "      <th>Battery_capacity</th>\n",
       "      <th>Blu_ray_or_DVD</th>\n",
       "      <th>Blu_ray_reader</th>\n",
       "      <th>Built_in_microphone</th>\n",
       "      <th>...</th>\n",
       "      <th>Voice_command</th>\n",
       "      <th>Warranty_length</th>\n",
       "      <th>Width</th>\n",
       "      <th>WiFi</th>\n",
       "      <th>WiFi_type</th>\n",
       "      <th>Wireless_keyboard</th>\n",
       "      <th>Wireless_mouse</th>\n",
       "      <th>xD_reader</th>\n",
       "      <th>Has_Facial_recognition</th>\n",
       "      <th>Has_FingerPrintReader</th>\n",
       "    </tr>\n",
       "  </thead>\n",
       "  <tbody>\n",
       "    <tr>\n",
       "      <th>179</th>\n",
       "      <td>180</td>\n",
       "      <td>Intel</td>\n",
       "      <td>Compute Stick 2nd Gen computer</td>\n",
       "      <td>desktop-computer</td>\n",
       "      <td>https://www.consumerreports.org/products/deskt...</td>\n",
       "      <td>No</td>\n",
       "      <td>NaN</td>\n",
       "      <td>NaN</td>\n",
       "      <td>No</td>\n",
       "      <td>NaN</td>\n",
       "      <td>...</td>\n",
       "      <td>No</td>\n",
       "      <td>12</td>\n",
       "      <td>1.5</td>\n",
       "      <td>Yes</td>\n",
       "      <td>NaN</td>\n",
       "      <td>NaN</td>\n",
       "      <td>NaN</td>\n",
       "      <td>No</td>\n",
       "      <td>0</td>\n",
       "      <td>0</td>\n",
       "    </tr>\n",
       "    <tr>\n",
       "      <th>180</th>\n",
       "      <td>181</td>\n",
       "      <td>Intel</td>\n",
       "      <td>Compute Stick computer</td>\n",
       "      <td>desktop-computer</td>\n",
       "      <td>https://www.consumerreports.org/products/deskt...</td>\n",
       "      <td>No</td>\n",
       "      <td>NaN</td>\n",
       "      <td>NaN</td>\n",
       "      <td>No</td>\n",
       "      <td>NaN</td>\n",
       "      <td>...</td>\n",
       "      <td>No</td>\n",
       "      <td>12</td>\n",
       "      <td>1.5</td>\n",
       "      <td>Yes</td>\n",
       "      <td>NaN</td>\n",
       "      <td>NaN</td>\n",
       "      <td>NaN</td>\n",
       "      <td>No</td>\n",
       "      <td>0</td>\n",
       "      <td>0</td>\n",
       "    </tr>\n",
       "  </tbody>\n",
       "</table>\n",
       "<p>2 rows × 59 columns</p>\n",
       "</div>"
      ],
      "text/plain": [
       "     Unnamed: 0  brand                           model        prod_class  \\\n",
       "179         180  Intel  Compute Stick 2nd Gen computer  desktop-computer   \n",
       "180         181  Intel          Compute Stick computer  desktop-computer   \n",
       "\n",
       "                                                   url  \\\n",
       "179  https://www.consumerreports.org/products/deskt...   \n",
       "180  https://www.consumerreports.org/products/deskt...   \n",
       "\n",
       "    Analog_surround_sound_out  Battery_capacity Blu_ray_or_DVD Blu_ray_reader  \\\n",
       "179                        No               NaN            NaN             No   \n",
       "180                        No               NaN            NaN             No   \n",
       "\n",
       "    Built_in_microphone          ...          Voice_command  Warranty_length  \\\n",
       "179                 NaN          ...                     No               12   \n",
       "180                 NaN          ...                     No               12   \n",
       "\n",
       "    Width  WiFi WiFi_type Wireless_keyboard Wireless_mouse xD_reader  \\\n",
       "179   1.5   Yes       NaN               NaN            NaN        No   \n",
       "180   1.5   Yes       NaN               NaN            NaN        No   \n",
       "\n",
       "    Has_Facial_recognition Has_FingerPrintReader  \n",
       "179                      0                     0  \n",
       "180                      0                     0  \n",
       "\n",
       "[2 rows x 59 columns]"
      ]
     },
     "execution_count": 24,
     "metadata": {},
     "output_type": "execute_result"
    }
   ],
   "source": [
    "# remove from source too ...\n",
    "# prove we have the right pattern before removing them:\n",
    "cr_spec_df[cr_spec_df['model'].str.contains(\"Compute Stick\")==True]"
   ]
  },
  {
   "cell_type": "code",
   "execution_count": 29,
   "metadata": {
    "collapsed": true
   },
   "outputs": [],
   "source": [
    "## don't need url ... but may need url2 if joining this to something else later\n",
    "del memoryPrice['url']"
   ]
  },
  {
   "cell_type": "code",
   "execution_count": 25,
   "metadata": {},
   "outputs": [
    {
     "name": "stdout",
     "output_type": "stream",
     "text": [
      "(268, 59)\n",
      "(266, 59)\n"
     ]
    }
   ],
   "source": [
    "## now drop them and resave the results so our fixed data is preserved\n",
    "print(cr_spec_df.shape)\n",
    "cr_spec_df.drop(cr_spec_df.index[[179, 180]], inplace=True)\n",
    "print(cr_spec_df.shape)  # 2 records to drop"
   ]
  },
  {
   "cell_type": "code",
   "execution_count": 50,
   "metadata": {
    "collapsed": true
   },
   "outputs": [],
   "source": [
    "cr_spec_df.to_csv('./cr_reviewsPage_PriceInfo2.csv')"
   ]
  },
  {
   "cell_type": "markdown",
   "metadata": {},
   "source": [
    "### Memory Vs. Price\n",
    "\n",
    "How much more do computer makers charge for including more memory?  Salesmen would have your believe it is just another \\$25 to \\$50 more but when you look at prices it is hard to tell since generally, the increased memory is part of a \"bundle\" of increased specs in an overall better machine.  Anecdotally, Prices are often upwards of $200 different between say the 8GB and 16GB model when you go to the store. But let's look at the data from reviews on Consumer Reports or this ..."
   ]
  },
  {
   "cell_type": "code",
   "execution_count": 33,
   "metadata": {},
   "outputs": [
    {
     "data": {
      "text/html": [
       "<div>\n",
       "<style>\n",
       "    .dataframe thead tr:only-child th {\n",
       "        text-align: right;\n",
       "    }\n",
       "\n",
       "    .dataframe thead th {\n",
       "        text-align: left;\n",
       "    }\n",
       "\n",
       "    .dataframe tbody tr th {\n",
       "        vertical-align: top;\n",
       "    }\n",
       "</style>\n",
       "<table border=\"1\" class=\"dataframe\">\n",
       "  <thead>\n",
       "    <tr style=\"text-align: right;\">\n",
       "      <th></th>\n",
       "      <th>prod_class</th>\n",
       "      <th>brand</th>\n",
       "      <th>model</th>\n",
       "      <th>Memory</th>\n",
       "      <th>price</th>\n",
       "      <th>url2</th>\n",
       "    </tr>\n",
       "  </thead>\n",
       "  <tbody>\n",
       "    <tr>\n",
       "      <th>0</th>\n",
       "      <td>laptop</td>\n",
       "      <td>Acer</td>\n",
       "      <td>Aspire E5-574-53QS computer</td>\n",
       "      <td>4</td>\n",
       "      <td>390.0</td>\n",
       "      <td>https://www.consumerreports.org/products/lapto...</td>\n",
       "    </tr>\n",
       "    <tr>\n",
       "      <th>1</th>\n",
       "      <td>laptop</td>\n",
       "      <td>Acer</td>\n",
       "      <td>Aspire E5-574-53QS computer</td>\n",
       "      <td>4</td>\n",
       "      <td>390.0</td>\n",
       "      <td>https://www.consumerreports.org/products/lapto...</td>\n",
       "    </tr>\n",
       "    <tr>\n",
       "      <th>2</th>\n",
       "      <td>laptop</td>\n",
       "      <td>Acer</td>\n",
       "      <td>Aspire E5-575T-3678 computer</td>\n",
       "      <td>8</td>\n",
       "      <td>400.0</td>\n",
       "      <td>https://www.consumerreports.org/products/lapto...</td>\n",
       "    </tr>\n",
       "    <tr>\n",
       "      <th>3</th>\n",
       "      <td>laptop</td>\n",
       "      <td>Acer</td>\n",
       "      <td>Aspire E5-575T-3678 computer</td>\n",
       "      <td>8</td>\n",
       "      <td>400.0</td>\n",
       "      <td>https://www.consumerreports.org/products/lapto...</td>\n",
       "    </tr>\n",
       "    <tr>\n",
       "      <th>4</th>\n",
       "      <td>laptop</td>\n",
       "      <td>Acer</td>\n",
       "      <td>Aspire ES 15 E5-573-35JA computer</td>\n",
       "      <td>4</td>\n",
       "      <td>250.0</td>\n",
       "      <td>https://www.consumerreports.org/products/lapto...</td>\n",
       "    </tr>\n",
       "  </tbody>\n",
       "</table>\n",
       "</div>"
      ],
      "text/plain": [
       "  prod_class brand                              model  Memory  price  \\\n",
       "0     laptop  Acer        Aspire E5-574-53QS computer       4  390.0   \n",
       "1     laptop  Acer        Aspire E5-574-53QS computer       4  390.0   \n",
       "2     laptop  Acer       Aspire E5-575T-3678 computer       8  400.0   \n",
       "3     laptop  Acer       Aspire E5-575T-3678 computer       8  400.0   \n",
       "4     laptop  Acer  Aspire ES 15 E5-573-35JA computer       4  250.0   \n",
       "\n",
       "                                                url2  \n",
       "0  https://www.consumerreports.org/products/lapto...  \n",
       "1  https://www.consumerreports.org/products/lapto...  \n",
       "2  https://www.consumerreports.org/products/lapto...  \n",
       "3  https://www.consumerreports.org/products/lapto...  \n",
       "4  https://www.consumerreports.org/products/lapto...  "
      ]
     },
     "execution_count": 33,
     "metadata": {},
     "output_type": "execute_result"
    }
   ],
   "source": [
    "## quick look at memoryPrice DF created earlier:\n",
    "memoryPrice.head()"
   ]
  },
  {
   "cell_type": "code",
   "execution_count": 49,
   "metadata": {},
   "outputs": [
    {
     "data": {
      "text/plain": [
       "<seaborn.axisgrid.JointGrid at 0x117ccdeb8>"
      ]
     },
     "execution_count": 49,
     "metadata": {},
     "output_type": "execute_result"
    },
    {
     "data": {
      "image/png": "[encoded data removed]",
      "text/plain": [
       "<matplotlib.figure.Figure at 0x117ccd7b8>"
      ]
     },
     "metadata": {},
     "output_type": "display_data"
    }
   ],
   "source": [
    "# plt.figure(figsize=(12,6))  size does not seem to impact this one ...\n",
    "# fig, ax = pyplot.subplots(figsize=(12,12))  # needs import pyplot from matplotlib - and did not work\n",
    "fig.set_size_inches(12.7, 9.27)               # no effect\n",
    "sns.jointplot(memoryPrice['price'], memoryPrice['Memory'])  # bivariate analysis: x= Price, y=Memory"
   ]
  },
  {
   "cell_type": "markdown",
   "metadata": {},
   "source": [
    "We have a very small p-value and a pearson correlation of .61.  The correlation between price and Memory is significant, but this plot also suggests that other factors are involved besides just price.  We can reason this out ourselves without even needing the data, but from a data perspective, note the \"stripes\" of how price points are spread out in a range from high to low values for every level of RAM.  To exhibit a pattern like this and yet still be statistically significant, there must be other factors driving why two machines of say 8 GB of RAM can have such different price levels.  \n",
    "\n",
    "This is more a sanity check that our data analysis techniques are working, than anything surprising in terms of revelation.  Anyone with knowledge of PCs would expect these results.  The data simply confirms it."
   ]
  },
  {
   "cell_type": "code",
   "execution_count": 2,
   "metadata": {},
   "outputs": [
    {
     "name": "stdout",
     "output_type": "stream",
     "text": [
      "End\n"
     ]
    }
   ],
   "source": [
    "print(\"End\")"
   ]
  },
  {
   "cell_type": "code",
   "execution_count": null,
   "metadata": {
    "collapsed": true
   },
   "outputs": [],
   "source": []
  }
 ],
 "metadata": {
  "kernelspec": {
   "display_name": "Python 3",
   "language": "python",
   "name": "python3"
  },
  "language_info": {
   "codemirror_mode": {
    "name": "ipython",
    "version": 3
   },
   "file_extension": ".py",
   "mimetype": "text/x-python",
   "name": "python",
   "nbconvert_exporter": "python",
   "pygments_lexer": "ipython3",
   "version": "3.6.1"
  }
 },
 "nbformat": 4,
 "nbformat_minor": 2
}
