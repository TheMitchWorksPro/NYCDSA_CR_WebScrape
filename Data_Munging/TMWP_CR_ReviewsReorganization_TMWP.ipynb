{
 "cells": [
  {
   "cell_type": "markdown",
   "metadata": {},
   "source": [
    "<!-- This notebook cleans out duplicates, fixes numbers and consolidates a group of spreadsheets -->\n",
    "This notebook consolidates spreadsheets"
   ]
  },
  {
   "cell_type": "markdown",
   "metadata": {},
   "source": [
    "### Combine CSV Files\n",
    "\n",
    "Reviews CSVs were created in two batches due to issues encountered during scraping.  Code in this section combines the related file fragments."
   ]
  },
  {
   "cell_type": "code",
   "execution_count": 9,
   "metadata": {
    "collapsed": true
   },
   "outputs": [],
   "source": [
    "# Libraries Needed\n",
    "import numpy as np\n",
    "import pandas as pd"
   ]
  },
  {
   "cell_type": "code",
   "execution_count": 10,
   "metadata": {},
   "outputs": [
    {
     "name": "stdout",
     "output_type": "stream",
     "text": [
      "-rw-r--r--@ 1 mitchmac  staff    80418 Jul 30 01:14 ./scraping_file_inputs/cr_computer_NoRvws.csv\r\n",
      "-rw-r--r--@ 1 mitchmac  staff    12942 Jul 30 01:47 ./scraping_file_inputs/cr_computer_NoRvws_ex.csv\r\n",
      "-rw-r--r--@ 1 mitchmac  staff   245710 Jul 30 01:14 ./scraping_file_inputs/cr_computer_rvws.csv\r\n",
      "-rw-r--r--@ 1 mitchmac  staff    19975 Jul 30 01:47 ./scraping_file_inputs/cr_computer_rvws_ex.csv\r\n",
      "-rw-r--r--@ 1 mitchmac  staff    47391 Jul 27 17:46 ./scraping_file_inputs/cr_reviewPageURLs_AllComputers.csv\r\n",
      "-rw-r--r--@ 1 mitchmac  staff  1775828 Jul 28 02:07 ./scraping_file_inputs/cr_spider_specs.csv\r\n"
     ]
    }
   ],
   "source": [
    "# check we have the files in our directory   ## syntax is for mac\n",
    "!ls -la ./scraping_file_inputs/*.csv"
   ]
  },
  {
   "cell_type": "code",
   "execution_count": 11,
   "metadata": {
    "collapsed": true
   },
   "outputs": [],
   "source": [
    "# Get Source Data\n",
    "# begin coding here ...\n",
    "\n",
    "fileList = [\"./scraping_file_inputs/cr_computer_NoRvws.csv\",\n",
    "            \"./scraping_file_inputs/cr_computer_NoRvws_ex.csv\", \n",
    "            \"./scraping_file_inputs/cr_computer_rvws.csv\",\n",
    "            \"./scraping_file_inputs/cr_computer_rvws_ex.csv\"]"
   ]
  },
  {
   "cell_type": "code",
   "execution_count": 12,
   "metadata": {
    "collapsed": true
   },
   "outputs": [],
   "source": [
    "def build_df_from_csvList(fileLst, drop_dupes = True):\n",
    "    naList = [\"\", \" \", \"  \", \"?\"]\n",
    "    df = pd.read_csv(fileLst[0], na_values=naList)\n",
    "    print(\"initial df has \", len(df), \" rows.\")\n",
    "    print(\"drop_dupes = \" + str(drop_dupes))\n",
    "    print(\"Combining These files:\")\n",
    "    print(\"\\t\", fileLst[0], sep=\"\")\n",
    "    for iFile in fileLst[1:]:\n",
    "        if drop_dupes == True:\n",
    "            print(\"\\t\", iFile, sep=\"\")\n",
    "            df = df.append(pd.read_csv(iFile, na_values=naList).drop_duplicates())\n",
    "        else:\n",
    "            print(\"\\t\", iFile, sep=\"\")\n",
    "            df = df.append(pd.read_csv(iFile, na_values=naList))\n",
    "    print(\"df created with \", len(df), \" rows.\", sep=\"\")\n",
    "    return df.reset_index()\n",
    "    # Frame = Frame.append(pandas.DataFrame(data = SomeNewLineOfData))"
   ]
  },
  {
   "cell_type": "code",
   "execution_count": 15,
   "metadata": {},
   "outputs": [
    {
     "name": "stdout",
     "output_type": "stream",
     "text": [
      "initial df has  173  rows.\n",
      "drop_dupes = True\n",
      "Combining These files:\n",
      "\t./scraping_file_inputs/cr_computer_rvws.csv\n",
      "\t./scraping_file_inputs/cr_computer_rvws_ex.csv\n",
      "df created with 190 rows.\n"
     ]
    }
   ],
   "source": [
    "df_Reviews = build_df_from_csvList(fileList[2:])  # combine last two files and drop dupes along the way"
   ]
  },
  {
   "cell_type": "code",
   "execution_count": 16,
   "metadata": {},
   "outputs": [
    {
     "name": "stdout",
     "output_type": "stream",
     "text": [
      "initial df has  224  rows.\n",
      "drop_dupes = True\n",
      "Combining These files:\n",
      "\t./scraping_file_inputs/cr_computer_NoRvws.csv\n",
      "\t./scraping_file_inputs/cr_computer_NoRvws_ex.csv\n",
      "df created with 254 rows.\n"
     ]
    }
   ],
   "source": [
    "df_Noreviews = build_df_from_csvList(fileList[:2])  # get first two records"
   ]
  },
  {
   "cell_type": "code",
   "execution_count": 20,
   "metadata": {},
   "outputs": [
    {
     "name": "stdout",
     "output_type": "stream",
     "text": [
      "['index', 'brand', 'model', 'prod_class', 'prod_short_descr', 'has_reviews', 'url', 'reported_exceptions']\n",
      "------------------------------------------------------------------------\n",
      "['index', 'brand', 'model', 'prod_class', 'prod_short_descr', 'num_usr_reviews', 'rec_rvw_rating', 'has_reviews', 'survey_cons', 'survey_pros', 'ratings_distribution', 'user_rating', 'user_rating_txt', 'user_rvw_hdln', 'submit_dateTime', 'submit_date', 'submit_time', 'rvw_username', 'rvw_userLocation', 'rvw_userCity', 'rvw_userState', 'rvw_userCountry', 'verified_buyer', 'verified_reviewer', 'user_review_content', 'btm_line_txt', 'url', 'reported_exceptions']\n"
     ]
    }
   ],
   "source": [
    "print(df_Noreviews.columns.values.tolist())\n",
    "print(\"-\"*72)\n",
    "print(df_Reviews.columns.values.tolist())"
   ]
  },
  {
   "cell_type": "code",
   "execution_count": null,
   "metadata": {
    "collapsed": true
   },
   "outputs": [],
   "source": []
  },
  {
   "cell_type": "markdown",
   "metadata": {},
   "source": [
    "### Write the Result to New Files"
   ]
  },
  {
   "cell_type": "code",
   "execution_count": 17,
   "metadata": {
    "collapsed": true
   },
   "outputs": [],
   "source": [
    "df_Reviews.to_csv('cr_reviewsPage_recs_w_Rvws.csv')"
   ]
  },
  {
   "cell_type": "code",
   "execution_count": 18,
   "metadata": {
    "collapsed": true
   },
   "outputs": [],
   "source": [
    "df_Noreviews.to_csv('cr_reviewsPage_recs_w_NoRvws.csv')"
   ]
  },
  {
   "cell_type": "code",
   "execution_count": 23,
   "metadata": {},
   "outputs": [
    {
     "data": {
      "text/html": [
       "<div>\n",
       "<style>\n",
       "    .dataframe thead tr:only-child th {\n",
       "        text-align: right;\n",
       "    }\n",
       "\n",
       "    .dataframe thead th {\n",
       "        text-align: left;\n",
       "    }\n",
       "\n",
       "    .dataframe tbody tr th {\n",
       "        vertical-align: top;\n",
       "    }\n",
       "</style>\n",
       "<table border=\"1\" class=\"dataframe\">\n",
       "  <thead>\n",
       "    <tr style=\"text-align: right;\">\n",
       "      <th></th>\n",
       "      <th>index</th>\n",
       "      <th>num_usr_reviews</th>\n",
       "      <th>rec_rvw_rating</th>\n",
       "      <th>user_rating</th>\n",
       "      <th>user_rating_txt</th>\n",
       "      <th>verified_buyer</th>\n",
       "    </tr>\n",
       "  </thead>\n",
       "  <tbody>\n",
       "    <tr>\n",
       "      <th>count</th>\n",
       "      <td>190.000000</td>\n",
       "      <td>85.000000</td>\n",
       "      <td>85.000000</td>\n",
       "      <td>190.000000</td>\n",
       "      <td>0.0</td>\n",
       "      <td>0.0</td>\n",
       "    </tr>\n",
       "    <tr>\n",
       "      <th>mean</th>\n",
       "      <td>79.021053</td>\n",
       "      <td>2.258824</td>\n",
       "      <td>3.163529</td>\n",
       "      <td>3.321053</td>\n",
       "      <td>NaN</td>\n",
       "      <td>NaN</td>\n",
       "    </tr>\n",
       "    <tr>\n",
       "      <th>std</th>\n",
       "      <td>52.757001</td>\n",
       "      <td>2.071076</td>\n",
       "      <td>1.312563</td>\n",
       "      <td>1.579324</td>\n",
       "      <td>NaN</td>\n",
       "      <td>NaN</td>\n",
       "    </tr>\n",
       "    <tr>\n",
       "      <th>min</th>\n",
       "      <td>0.000000</td>\n",
       "      <td>1.000000</td>\n",
       "      <td>1.000000</td>\n",
       "      <td>1.000000</td>\n",
       "      <td>NaN</td>\n",
       "      <td>NaN</td>\n",
       "    </tr>\n",
       "    <tr>\n",
       "      <th>25%</th>\n",
       "      <td>30.250000</td>\n",
       "      <td>1.000000</td>\n",
       "      <td>2.000000</td>\n",
       "      <td>2.000000</td>\n",
       "      <td>NaN</td>\n",
       "      <td>NaN</td>\n",
       "    </tr>\n",
       "    <tr>\n",
       "      <th>50%</th>\n",
       "      <td>77.500000</td>\n",
       "      <td>1.000000</td>\n",
       "      <td>3.000000</td>\n",
       "      <td>4.000000</td>\n",
       "      <td>NaN</td>\n",
       "      <td>NaN</td>\n",
       "    </tr>\n",
       "    <tr>\n",
       "      <th>75%</th>\n",
       "      <td>124.750000</td>\n",
       "      <td>3.000000</td>\n",
       "      <td>4.000000</td>\n",
       "      <td>5.000000</td>\n",
       "      <td>NaN</td>\n",
       "      <td>NaN</td>\n",
       "    </tr>\n",
       "    <tr>\n",
       "      <th>max</th>\n",
       "      <td>172.000000</td>\n",
       "      <td>13.000000</td>\n",
       "      <td>5.000000</td>\n",
       "      <td>5.000000</td>\n",
       "      <td>NaN</td>\n",
       "      <td>NaN</td>\n",
       "    </tr>\n",
       "  </tbody>\n",
       "</table>\n",
       "</div>"
      ],
      "text/plain": [
       "            index  num_usr_reviews  rec_rvw_rating  user_rating  \\\n",
       "count  190.000000        85.000000       85.000000   190.000000   \n",
       "mean    79.021053         2.258824        3.163529     3.321053   \n",
       "std     52.757001         2.071076        1.312563     1.579324   \n",
       "min      0.000000         1.000000        1.000000     1.000000   \n",
       "25%     30.250000         1.000000        2.000000     2.000000   \n",
       "50%     77.500000         1.000000        3.000000     4.000000   \n",
       "75%    124.750000         3.000000        4.000000     5.000000   \n",
       "max    172.000000        13.000000        5.000000     5.000000   \n",
       "\n",
       "       user_rating_txt  verified_buyer  \n",
       "count              0.0             0.0  \n",
       "mean               NaN             NaN  \n",
       "std                NaN             NaN  \n",
       "min                NaN             NaN  \n",
       "25%                NaN             NaN  \n",
       "50%                NaN             NaN  \n",
       "75%                NaN             NaN  \n",
       "max                NaN             NaN  "
      ]
     },
     "execution_count": 23,
     "metadata": {},
     "output_type": "execute_result"
    }
   ],
   "source": [
    "df_Reviews.describe()"
   ]
  },
  {
   "cell_type": "code",
   "execution_count": 24,
   "metadata": {},
   "outputs": [
    {
     "data": {
      "text/html": [
       "<div>\n",
       "<style>\n",
       "    .dataframe thead tr:only-child th {\n",
       "        text-align: right;\n",
       "    }\n",
       "\n",
       "    .dataframe thead th {\n",
       "        text-align: left;\n",
       "    }\n",
       "\n",
       "    .dataframe tbody tr th {\n",
       "        vertical-align: top;\n",
       "    }\n",
       "</style>\n",
       "<table border=\"1\" class=\"dataframe\">\n",
       "  <thead>\n",
       "    <tr style=\"text-align: right;\">\n",
       "      <th></th>\n",
       "      <th>index</th>\n",
       "    </tr>\n",
       "  </thead>\n",
       "  <tbody>\n",
       "    <tr>\n",
       "      <th>count</th>\n",
       "      <td>254.000000</td>\n",
       "    </tr>\n",
       "    <tr>\n",
       "      <th>mean</th>\n",
       "      <td>100.043307</td>\n",
       "    </tr>\n",
       "    <tr>\n",
       "      <th>std</th>\n",
       "      <td>68.518441</td>\n",
       "    </tr>\n",
       "    <tr>\n",
       "      <th>min</th>\n",
       "      <td>0.000000</td>\n",
       "    </tr>\n",
       "    <tr>\n",
       "      <th>25%</th>\n",
       "      <td>33.250000</td>\n",
       "    </tr>\n",
       "    <tr>\n",
       "      <th>50%</th>\n",
       "      <td>96.500000</td>\n",
       "    </tr>\n",
       "    <tr>\n",
       "      <th>75%</th>\n",
       "      <td>159.750000</td>\n",
       "    </tr>\n",
       "    <tr>\n",
       "      <th>max</th>\n",
       "      <td>223.000000</td>\n",
       "    </tr>\n",
       "  </tbody>\n",
       "</table>\n",
       "</div>"
      ],
      "text/plain": [
       "            index\n",
       "count  254.000000\n",
       "mean   100.043307\n",
       "std     68.518441\n",
       "min      0.000000\n",
       "25%     33.250000\n",
       "50%     96.500000\n",
       "75%    159.750000\n",
       "max    223.000000"
      ]
     },
     "execution_count": 24,
     "metadata": {},
     "output_type": "execute_result"
    }
   ],
   "source": [
    "df_Noreviews.describe()  # nothing useful here yet"
   ]
  },
  {
   "cell_type": "code",
   "execution_count": 25,
   "metadata": {},
   "outputs": [
    {
     "data": {
      "text/plain": [
       "3.0    15\n",
       "5.0    13\n",
       "4.0    12\n",
       "1.0    12\n",
       "2.0    11\n",
       "2.5     3\n",
       "4.3     3\n",
       "3.7     3\n",
       "4.8     2\n",
       "2.2     2\n",
       "3.5     2\n",
       "2.4     1\n",
       "4.5     1\n",
       "1.7     1\n",
       "4.4     1\n",
       "3.4     1\n",
       "3.9     1\n",
       "4.1     1\n",
       "Name: rec_rvw_rating, dtype: int64"
      ]
     },
     "execution_count": 25,
     "metadata": {},
     "output_type": "execute_result"
    }
   ],
   "source": [
    "# sample:\n",
    "df_Reviews['rec_rvw_rating'].value_counts()"
   ]
  },
  {
   "cell_type": "code",
   "execution_count": null,
   "metadata": {
    "collapsed": true
   },
   "outputs": [],
   "source": [
    "## note:  reviews file modified by R scripts after creation of this code\n",
    "##        * live file now has a \"ReviewsGood\" column for use in extracting word_cloud content"
   ]
  },
  {
   "cell_type": "markdown",
   "metadata": {},
   "source": [
    "### Few Old Notes To Refer to\n",
    "Code commented out ... used in other parts of this project"
   ]
  },
  {
   "cell_type": "code",
   "execution_count": null,
   "metadata": {
    "collapsed": true
   },
   "outputs": [],
   "source": [
    "# len(df)"
   ]
  },
  {
   "cell_type": "code",
   "execution_count": null,
   "metadata": {
    "collapsed": true
   },
   "outputs": [],
   "source": [
    "# tried list comp and it did not seem to work\n",
    "# this was used on scrapy code in case useful here;\n",
    "\n",
    "# tstLst = []\n",
    "# for index, row in df.iterrows():\n",
    "#     tstLst.append(row['url'] + \"specs\")\n",
    "# print(len(tstLst))\n",
    "# tstLst[0]"
   ]
  },
  {
   "cell_type": "code",
   "execution_count": null,
   "metadata": {
    "collapsed": true
   },
   "outputs": [],
   "source": []
  }
 ],
 "metadata": {
  "kernelspec": {
   "display_name": "Python 3",
   "language": "python",
   "name": "python3"
  },
  "language_info": {
   "codemirror_mode": {
    "name": "ipython",
    "version": 3
   },
   "file_extension": ".py",
   "mimetype": "text/x-python",
   "name": "python",
   "nbconvert_exporter": "python",
   "pygments_lexer": "ipython3",
   "version": "3.6.1"
  }
 },
 "nbformat": 4,
 "nbformat_minor": 2
}
